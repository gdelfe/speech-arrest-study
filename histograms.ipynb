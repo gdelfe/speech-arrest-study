{
 "cells": [
  {
   "cell_type": "code",
   "execution_count": 1,
   "metadata": {},
   "outputs": [
    {
     "data": {
      "text/plain": [
       "'/home/bijanadmin/Dropbox/WORK/SPEECH_STUDY/Python_speech_study'"
      ]
     },
     "execution_count": 1,
     "metadata": {},
     "output_type": "execute_result"
    }
   ],
   "source": [
    "pwd"
   ]
  },
  {
   "cell_type": "code",
   "execution_count": 67,
   "metadata": {},
   "outputs": [],
   "source": [
    "import numpy as np\n",
    "import matplotlib.pyplot as plt\n",
    "import os\n",
    "import networkx as nx\n",
    "from itertools import groupby\n",
    "import seaborn as sns\n",
    "from operator import itemgetter \n",
    "import matplotlib.colors as mcolors\n",
    "import sys\n",
    "\n",
    "# from IPython.core.interactiveshell import InteractiveShell\n",
    "# InteractiveShell.ast_node_interactivity = \"all\"\n",
    "# np.set_printoptions(threshold=sys.maxsize)"
   ]
  },
  {
   "cell_type": "code",
   "execution_count": 239,
   "metadata": {},
   "outputs": [
    {
     "name": "stdout",
     "output_type": "stream",
     "text": [
      "../3.NO_ARREST/10/NoN\n",
      "[0, 1, 2, 5, 6, 7, 8, 10, 11, 12]\n",
      "[0, 5, 1, 4, 2, 3, 6, 9, 8, 7]\n",
      "[0, 1, 2, 8]\n",
      "[0, 1, 5, 6]\n"
     ]
    }
   ],
   "source": [
    "patient = 1\n",
    "path_dir = '../3.NO_ARREST/{}/NoN'.format(patient)\n",
    "print(path_dir)\n",
    "\n",
    "fn_NoN = os.path.join(path_dir,'NoN_nodes_mod.txt')\n",
    "NoN = np.loadtxt(fn_NoN) # file which contains the coordinates and cluster labels\n",
    "fn_J = os.path.join(path_dir,'J_NoN.txt') # matrix J path\n",
    "J = np.loadtxt(fn_J,dtype='f',delimiter='\\t') # matrix J\n",
    "\n",
    "# file name for the figure to save\n",
    "fn_figure = os.path.join(path_dir,'Kcore_arrest_patient_{}.png'.format(patient))\n",
    "\n",
    "# index ROIs \n",
    "lab_ROI = [0,1,2,5,6,7,8,10,11,12] # ROI index in the universal map, order sequentially (universal order)\n",
    "lab_ROI_ind = [0,5,1,4,2,3,6,9,8,7] # ROI index, individual map, ordered according to the universal order (order can be mixed, not ascending)\n",
    "lab_ROI_comm = [0,1,2,8] # ROI index of the common network in the universal map \n",
    "lab_ROI_comm_ind = [0,1,5,6] # ROI index of the common network in the individual map - order must be ascendin4\n",
    "\n",
    "# lab_ROI = list(np.loadtxt(os.path.join(path_dir,'labels_ROI_universal.txt'),dtype='i'))\n",
    "# lab_ROI_ind = list(np.loadtxt(os.path.join(path_dir,'labels_ROI_individual.txt'),dtype='i'))\n",
    "# lab_ROI_comm = list(np.loadtxt(os.path.join(path_dir,'labels_ROI_comm_universal.txt'),dtype='i'))\n",
    "# lab_ROI_comm_ind = list(np.loadtxt(os.path.join(path_dir,'labels_ROI_comm_individual.txt'),dtype='i'))\n",
    "\n",
    "np.savetxt(os.path.join(path_dir,'labels_ROI_universal.txt'), lab_ROI, delimiter=' ',fmt='%d')  \n",
    "np.savetxt(os.path.join(path_dir,'labels_ROI_individual.txt'), lab_ROI_ind, delimiter=' ',fmt='%d')  \n",
    "np.savetxt(os.path.join(path_dir,'labels_ROI_comm_universal.txt'), lab_ROI_comm, delimiter=' ',fmt='%d')  \n",
    "np.savetxt(os.path.join(path_dir,'labels_ROI_comm_individual.txt'), lab_ROI_comm_ind, delimiter=' ',fmt='%d') \n",
    "\n",
    "print(lab_ROI)\n",
    "print(lab_ROI_ind)\n",
    "print(lab_ROI_comm)\n",
    "print(lab_ROI_comm_ind)"
   ]
  },
  {
   "cell_type": "code",
   "execution_count": 240,
   "metadata": {},
   "outputs": [
    {
     "data": {
      "text/plain": [
       "<matplotlib.image.AxesImage at 0x7f836a768e48>"
      ]
     },
     "execution_count": 240,
     "metadata": {},
     "output_type": "execute_result"
    },
    {
     "data": {
      "image/png": "[encoded data removed]",
      "text/plain": [
       "<Figure size 432x288 with 1 Axes>"
      ]
     },
     "metadata": {
      "needs_background": "light"
     },
     "output_type": "display_data"
    }
   ],
   "source": [
    "plt.imshow(J,cmap='RdBu')"
   ]
  },
  {
   "cell_type": "code",
   "execution_count": 241,
   "metadata": {},
   "outputs": [
    {
     "name": "stdout",
     "output_type": "stream",
     "text": [
      "[88, 194, 53, 68, 73, 30, 69, 37, 41, 39]\n",
      "[88, 30, 194, 73, 53, 68, 69, 39, 41, 37]\n"
     ]
    }
   ],
   "source": [
    "# labels for the clusters\n",
    "labels = np.int_(NoN[:,5])\n",
    "# list of nodes\n",
    "nodes = np.arange(1,labels.shape[0]+1)\n",
    "# list of edges\n",
    "edges = []\n",
    "\n",
    "# assign the edges\n",
    "for i in range(J.shape[0]):\n",
    "    for j in range(J.shape[0]):\n",
    "        if J[i,j] != 0:\n",
    "            edges.append([i,j])\n",
    "            \n",
    "# size of each cluster\n",
    "size_mod_temp = [len(list(group)) for key, group in groupby(labels)] # how many elements in each module \n",
    "print(size_mod_temp)  #before reordering\n",
    "# reorder size of each cluster according to the universal order\n",
    "size_mod = [size_mod_temp[i] for i in lab_ROI_ind]\n",
    "print(size_mod) # after reordering - the order is according to the universal order"
   ]
  },
  {
   "cell_type": "code",
   "execution_count": 242,
   "metadata": {},
   "outputs": [
    {
     "name": "stdout",
     "output_type": "stream",
     "text": [
      "[88, 118, 312, 385, 438, 506, 575, 614, 655, 692]\n"
     ]
    }
   ],
   "source": [
    "# indexes for beginning of a new cluster \n",
    "len_mod = [] # len_mod contains the length (size) of each cluster\n",
    "len_mod.append(size_mod[0])\n",
    "for item in range(1,len(size_mod)):\n",
    "    len_mod.append(len_mod[item-1]+size_mod[item])\n",
    "print(len_mod) "
   ]
  },
  {
   "cell_type": "code",
   "execution_count": 243,
   "metadata": {
    "scrolled": true
   },
   "outputs": [],
   "source": [
    "net = nx.Graph()\n",
    "net.add_nodes_from(nodes)\n",
    "net.add_edges_from(edges)\n",
    "# nx.draw(net,with_labels=True)\n",
    "# ascella = nx.k_core(net)\n",
    "kcore = nx.core_number(net)\n",
    "# print(kcore)\n",
    "# kcore[0]"
   ]
  },
  {
   "cell_type": "code",
   "execution_count": 244,
   "metadata": {},
   "outputs": [
    {
     "name": "stdout",
     "output_type": "stream",
     "text": [
      "10\n",
      "10\n",
      "[0, 1, 5, 6]\n"
     ]
    }
   ],
   "source": [
    "core_num = [] # list containing the core numbers\n",
    "for key in kcore: \n",
    "    core_num.append(kcore[key])\n",
    "\n",
    "ROIs = [] # list which contains the kcore of all the nodes, divided by ROI, order according to universal map\n",
    "ROIs.append(core_num[0:len_mod[0]]) # first ROI\n",
    "for i in range(0,len(len_mod)-1):\n",
    "    ROIs.append(core_num[len_mod[i]:len_mod[i+1]]) # all others ROIs\n",
    "print(len(ROIs))\n",
    "print(labels[-1])\n",
    "print(lab_ROI_comm_ind)\n",
    "\n",
    "ROIs_common = []\n",
    "for i in lab_ROI_comm_ind:\n",
    "    ROIs_common.append(ROIs[i])"
   ]
  },
  {
   "cell_type": "code",
   "execution_count": 245,
   "metadata": {},
   "outputs": [
    {
     "name": "stdout",
     "output_type": "stream",
     "text": [
      "[88, 30, 194, 73, 53, 68, 69, 39, 41, 37]\n",
      "88, 30, 194, 73, 53, 68, 69, 39, 41, 37, \n",
      "88, 30, 68, 69, "
     ]
    }
   ],
   "source": [
    "# print(ROIs_common[1])\n",
    "print(size_mod)\n",
    "for i in range(len(ROIs)):\n",
    "    print(len(ROIs[i]),end=', ')\n",
    "print()\n",
    "for i in range(len(ROIs_common)):\n",
    "    print(len(ROIs_common[i]),end=', ')\n",
    "\n"
   ]
  },
  {
   "cell_type": "code",
   "execution_count": 246,
   "metadata": {},
   "outputs": [
    {
     "name": "stdout",
     "output_type": "stream",
     "text": [
      "['BA (L)' 'WA (L)' 'PreM (L)' 'SupM (L)' 'IOA (L)' 'AngG (L)' 'SMA'\n",
      " 'IOA (R)' 'SupM (R)' 'MFG (R)']\n",
      "[0, 1, 2, 5, 6, 7, 8, 10, 11, 12]\n",
      "['BA (L)' 'WA (L)' 'PreM (L)' 'SMA']\n"
     ]
    },
    {
     "data": {
      "image/png": "[encoded data removed]",
      "text/plain": [
       "<Figure size 1224x72 with 1 Axes>"
      ]
     },
     "metadata": {
      "needs_background": "light"
     },
     "output_type": "display_data"
    },
    {
     "data": {
      "image/png": "[encoded data removed]",
      "text/plain": [
       "<Figure size 720x72 with 1 Axes>"
      ]
     },
     "metadata": {
      "needs_background": "light"
     },
     "output_type": "display_data"
    },
    {
     "data": {
      "image/png": "[encoded data removed]",
      "text/plain": [
       "<Figure size 288x72 with 1 Axes>"
      ]
     },
     "metadata": {
      "needs_background": "light"
     },
     "output_type": "display_data"
    }
   ],
   "source": [
    "# colors\n",
    "colors = np.array([\"#ff6666\",'#4da6ff','#ffc34d','#ffff66','#8cff66','#00cc00','#009933','#86b300','#80dfff','#3fcdd9','#0000e6','#d966ff','#ff66d9','#5900b3','#527a7a','#a4a4a4','#8c66ff'])\n",
    "# sns.palplot(sns.color_palette(colors))\n",
    "# print(len(colors)) 66ffd9\n",
    "\n",
    "# Name all ROIs\n",
    "ROI_names_all = np.array(['BA (L)','WA (L)','PreM (L)','Motor (L)','MFG (L)','SupM (L)','IOA (L)','AngG (L)','SMA','AngG (R)','IOA (R)','SupM (R)','MFG (R)','Motor (R)','PREM (R)','WA (R)','BA (R)'])\n",
    "# colors = np.array([\"crimson\",\"orangered\",\"salmon\",\"amber\",\"wheat\",\"beige\",\"lime\",\"lightgreen\",\"aquamarine\",\"turquoise\",\"sky blue\",\"azure\",\"windows blue\",\"cobalt\",\"lilac\",\"periwinkle\",\"violet\"])\n",
    "\n",
    "# ROI names and ROI common names\n",
    "ROI_names = ROI_names_all[lab_ROI]\n",
    "ROI_names_common = ROI_names_all[lab_ROI_comm]\n",
    "print(ROI_names)\n",
    "print(lab_ROI)\n",
    "print(ROI_names_common)\n",
    "\n",
    "# ROI colors\n",
    "ROI_colors = colors[lab_ROI]\n",
    "ROI_colors_common = colors[lab_ROI_comm]\n",
    "\n",
    "# palette\n",
    "sns.palplot(sns.color_palette(colors))\n",
    "sns.palplot(sns.color_palette(colors[lab_ROI]))\n",
    "sns.palplot(sns.color_palette(colors[lab_ROI_comm]))"
   ]
  },
  {
   "cell_type": "code",
   "execution_count": 248,
   "metadata": {
    "scrolled": false
   },
   "outputs": [
    {
     "data": {
      "image/png": "[encoded data removed]",
      "text/plain": [
       "<Figure size 864x252 with 2 Axes>"
      ]
     },
     "metadata": {
      "needs_background": "light"
     },
     "output_type": "display_data"
    }
   ],
   "source": [
    "fig, (ax1,ax2) = plt.subplots(1,2,figsize=(12,3.5))\n",
    "\n",
    "# ax1.set_ylim([0, 0.34])\n",
    "# ax2.set_ylim([0, 0.16]) \n",
    "\n",
    "######### 1st histogram\n",
    "ax1.set_xlabel('Kcore',fontsize=13)\n",
    "ax1.set_ylabel('Count',fontsize=12)\n",
    "ax1.set_title('No Arrest - patient #{}'.format(patient),fontsize=15)\n",
    "\n",
    "# # weights\n",
    "# # weights\n",
    "# w_ROI = np.empty_like(ROIs)\n",
    "# for i in range(len(ROIs)):\n",
    "#     w_ROI[i] = np.ones_like(ROIs[i])/len(labels)\n",
    "\n",
    " \n",
    "weights_ROI = []\n",
    "for i in range(len(lab_ROI)):\n",
    "    weights_ROI.append(np.ones_like(ROIs[i])/len(labels))\n",
    "    \n",
    "    \n",
    "ax1.hist(ROIs,35,weights=weights_ROI,stacked=True,label=ROI_names,color=ROI_colors)\n",
    "# ax1.hist(ROIs,35,density=True,stacked=True,label=ROI_names,color=ROI_colors)\n",
    "\n",
    "\n",
    "ax1.legend()\n",
    "ax1.legend(bbox_to_anchor=(1., 1.03))\n",
    "ax1.grid(True)\n",
    "\n",
    "# ######## 2nd histogram\n",
    "ax2.set_xlabel('Kcore',fontsize=13)\n",
    "ax2.set_ylabel('Count',fontsize=12)\n",
    "ax2.set_title('No Arrest - patient #{}'.format(patient),fontsize=15)\n",
    "\n",
    "\n",
    "# # weights\n",
    "weights_ROI = []\n",
    "for i in range(len(ROIs_common)):\n",
    "    weights_ROI.append(np.ones_like(ROIs_common[i])/len(labels))\n",
    "\n",
    "\n",
    "ax2.hist(ROIs_common,34,weights=weights_ROI,stacked=True,label=ROI_names_common,color=ROI_colors_common)\n",
    "\n",
    "ax2.legend()\n",
    "ax2.legend(bbox_to_anchor=(1., 1.03))\n",
    "ax2.grid(True)\n",
    "\n",
    "\n",
    "plt.subplots_adjust(wspace=0.6)\n",
    "plt.show()\n",
    "\n",
    "fig.savefig(fn_figure,bbox_inches='tight')\n",
    "plt.close(fig)\n"
   ]
  },
  {
   "cell_type": "code",
   "execution_count": null,
   "metadata": {},
   "outputs": [],
   "source": []
  },
  {
   "cell_type": "code",
   "execution_count": null,
   "metadata": {},
   "outputs": [],
   "source": []
  },
  {
   "cell_type": "code",
   "execution_count": null,
   "metadata": {},
   "outputs": [],
   "source": []
  },
  {
   "cell_type": "code",
   "execution_count": null,
   "metadata": {},
   "outputs": [],
   "source": []
  },
  {
   "cell_type": "code",
   "execution_count": null,
   "metadata": {},
   "outputs": [],
   "source": []
  },
  {
   "cell_type": "code",
   "execution_count": 248,
   "metadata": {},
   "outputs": [],
   "source": [
    "# ROIs = [[1 for i in range(5) ] for i in range(17)]\n",
    "# print(len(ROIs[1]))\n",
    "# list_ROI = list(np.arange(17)) # ROI index in the universal map\n",
    "# list_ROI_common = [0,1,2,8] # ROI index of the common network in the universal map \n",
    "# ROI_common_individual = [0,1,4] # ROI index of the common network in the individual map"
   ]
  },
  {
   "cell_type": "code",
   "execution_count": 251,
   "metadata": {},
   "outputs": [],
   "source": [
    "# col = np.array([\"crimson\",\"orangered\",\"salmon\",\"amber\",\"wheat\",\"beige\",\"lime\",\"lightgreen\",\"aquamarine\",\"turquoise\",\"sky blue\",\"azure\",\"windows blue\",\"cobalt\",\"lilac\",\"periwinkle\",\"violet\"])\n",
    "\n",
    "# colors = np.array([\"#ff6666\",'#ffb366','#ffd966','#ffff66','#d9ff66','#8cff66','#00e639','#009933','#66ffd9','#00e6e6','#66b3ff','#0073e6','#0000e6','#8c66ff','#d966ff','#ff66d9','#5900b3'])\n",
    "# sns.palplot(sns.color_palette(colors))\n",
    "# print(len(colors))\n"
   ]
  },
  {
   "cell_type": "code",
   "execution_count": 219,
   "metadata": {
    "scrolled": true
   },
   "outputs": [
    {
     "data": {
      "image/png": "[encoded data removed]",
      "text/plain": [
       "<Figure size 1224x72 with 1 Axes>"
      ]
     },
     "metadata": {
      "needs_background": "light"
     },
     "output_type": "display_data"
    },
    {
     "data": {
      "image/png": "[encoded data removed]",
      "text/plain": [
       "<Figure size 1224x72 with 1 Axes>"
      ]
     },
     "metadata": {
      "needs_background": "light"
     },
     "output_type": "display_data"
    },
    {
     "data": {
      "image/png": "[encoded data removed]",
      "text/plain": [
       "<Figure size 288x72 with 1 Axes>"
      ]
     },
     "metadata": {
      "needs_background": "light"
     },
     "output_type": "display_data"
    }
   ],
   "source": [
    "# sns.palplot(sns.color_palette(\"Set2\", 17))\n",
    "# # sns.palplot(sns.color_palette(\"deep\", 9))\n",
    "# sns.palplot(sns.color_palette(\"pastel\", 9))\n",
    "import matplotlib\n",
    "import matplotlib.colors as mcolors\n",
    "# sns.palplot(sns.color_palette(\"cubehelix\", 8))\n",
    "sns.palplot(sns.color_palette(\"RdBu\", n_colors=17))\n",
    "sns.palplot(sns.color_palette(\"hls\", n_colors=17))\n",
    "\n",
    "\n",
    "colors = [\"crimson\",\"orangered\",\"salmon\",\"amber\",\"wheat\",\"beige\",\"lime\",\"lightgreen\",\"aquamarine\",\"turquoise\",\"sky blue\",\"azure\",\"windows blue\",\"cobalt\",\"lilac\",\"periwinkle\",\"violet\"]\n",
    "selection = [1,2,4,5]\n",
    "itemgetter(*selection)(colors)\n",
    "sns.palplot(sns.xkcd_palette(itemgetter(*selection)(colors)))\n",
    "# ROI_colors = [*itemgetter(selection)(colors)]\n"
   ]
  },
  {
   "cell_type": "code",
   "execution_count": null,
   "metadata": {},
   "outputs": [],
   "source": []
  }
 ],
 "metadata": {
  "kernelspec": {
   "display_name": "Python 3",
   "language": "python",
   "name": "python3"
  },
  "language_info": {
   "codemirror_mode": {
    "name": "ipython",
    "version": 3
   },
   "file_extension": ".py",
   "mimetype": "text/x-python",
   "name": "python",
   "nbconvert_exporter": "python",
   "pygments_lexer": "ipython3",
   "version": "3.7.3"
  }
 },
 "nbformat": 4,
 "nbformat_minor": 4
}
