{
 "cells": [
  {
   "cell_type": "code",
   "execution_count": 1,
   "metadata": {},
   "outputs": [
    {
     "data": {
      "text/plain": [
       "'/home/bijanadmin/Dropbox/WORK/SPEECH_STUDY/Python_speech_study'"
      ]
     },
     "execution_count": 1,
     "metadata": {},
     "output_type": "execute_result"
    }
   ],
   "source": [
    "pwd"
   ]
  },
  {
   "cell_type": "code",
   "execution_count": 183,
   "metadata": {},
   "outputs": [],
   "source": [
    "import numpy as np\n",
    "import matplotlib.pyplot as plt\n",
    "import os\n",
    "import networkx as nx\n",
    "from itertools import groupby\n",
    "import seaborn as sns\n",
    "from operator import itemgetter \n",
    "import matplotlib.colors as mcolors"
   ]
  },
  {
   "cell_type": "code",
   "execution_count": 31,
   "metadata": {},
   "outputs": [],
   "source": [
    "patient = 2\n",
    "path = '../2.ARREST/{}/NoN'.format(patient)"
   ]
  },
  {
   "cell_type": "code",
   "execution_count": 32,
   "metadata": {},
   "outputs": [],
   "source": [
    "fn_NoN = os.path.join(path,'NoN_nodes_mod.txt')\n",
    "NoN = np.loadtxt(fn_NoN) # file which contains the coordinates and cluster labels\n",
    "fn_J = os.path.join(path,'J_NoN.txt')\n",
    "J = np.loadtxt(fn_J,dtype='f',delimiter='\\t') # matrix J\n",
    "\n",
    "fn_figure = os.path.join(path,'Kcore_arrest_patient_{}.png'.format(patient))"
   ]
  },
  {
   "cell_type": "code",
   "execution_count": 39,
   "metadata": {},
   "outputs": [],
   "source": [
    "# labels for the clusters\n",
    "labels = np.int_(NoN[:,5])\n",
    "# list of nodes\n",
    "nodes = np.arange(1,labels.shape[0]+1)\n",
    "# list of edges\n",
    "edges = []\n",
    "for i in range(J.shape[0]):\n",
    "    for j in range(J.shape[0]):\n",
    "        if J[i,j] != 0:\n",
    "            edges.append([i,j])\n",
    "size_mod = [len(list(group)) for key, group in groupby(labels)] # how many elements in each module\n"
   ]
  },
  {
   "cell_type": "code",
   "execution_count": 40,
   "metadata": {},
   "outputs": [
    {
     "data": {
      "text/plain": [
       "[82, 25, 62, 217, 100, 89, 142, 33, 74]"
      ]
     },
     "execution_count": 40,
     "metadata": {},
     "output_type": "execute_result"
    }
   ],
   "source": [
    "size_mod"
   ]
  },
  {
   "cell_type": "code",
   "execution_count": 41,
   "metadata": {},
   "outputs": [
    {
     "name": "stdout",
     "output_type": "stream",
     "text": [
      "[82, 107, 169, 386, 486, 575, 717, 750, 824]\n"
     ]
    }
   ],
   "source": [
    "# indexes for beginning of a new cluster\n",
    "len_mod = []\n",
    "len_mod.append(size_mod[0])\n",
    "for item in range(1,len(size_mod)):\n",
    "    len_mod.append(len_mod[item-1]+size_mod[item])\n",
    "print(len_mod)"
   ]
  },
  {
   "cell_type": "code",
   "execution_count": 44,
   "metadata": {},
   "outputs": [
    {
     "data": {
      "text/plain": [
       "array([1, 2, 2, 2, 2, 2, 2, 2, 2, 2, 2, 2, 2, 2, 2, 2, 2, 2, 2, 2, 2, 2,\n",
       "       2, 2, 2, 2, 3])"
      ]
     },
     "execution_count": 44,
     "metadata": {},
     "output_type": "execute_result"
    }
   ],
   "source": [
    "net = nx.Graph()\n",
    "net.add_nodes_from(nodes)\n",
    "net.add_edges_from(edges)\n",
    "# nx.draw(net,with_labels=True)\n",
    "# ascella = nx.k_core(net)\n",
    "kcore = nx.core_number(net)\n",
    "#print(kcore)\n",
    "kcore[0]\n",
    "labels[len_mod[0]-1:len_mod[1]+1]\n"
   ]
  },
  {
   "cell_type": "code",
   "execution_count": 52,
   "metadata": {},
   "outputs": [
    {
     "name": "stdout",
     "output_type": "stream",
     "text": [
      "33\n",
      "[18, 15, 18, 18, 18, 18, 18, 18, 18, 18, 18, 18, 18, 18, 18, 18, 18, 18, 18, 18, 18, 16, 11, 6, 18, 18, 18, 18, 17, 15, 12, 15, 26]\n",
      "9\n"
     ]
    }
   ],
   "source": [
    "core_num = [] # list containing the core numbers\n",
    "for key in kcore: \n",
    "    core_num.append(kcore[key])\n",
    "\n",
    "ROIs = [] # list which contains the kcore of all the nodes, divided by ROI\n",
    "ROIs.append(core_num[0:len_mod[0]]) # first ROI\n",
    "for i in range(0,len(len_mod)-1):\n",
    "    ROIs.append(core_num[len_mod[i]:len_mod[i+1]]) # all others ROIs\n",
    "print(len(ROIs[7]))\n",
    "print(ROIs[7])\n",
    "print(labels[-1])"
   ]
  },
  {
   "cell_type": "code",
   "execution_count": 290,
   "metadata": {},
   "outputs": [
    {
     "ename": "ValueError",
     "evalue": "Invalid RGBA argument: 'sky blue'",
     "output_type": "error",
     "traceback": [
      "\u001b[0;31m---------------------------------------------------------------------------\u001b[0m",
      "\u001b[0;31mKeyError\u001b[0m                                  Traceback (most recent call last)",
      "\u001b[0;32m~/anaconda3/lib/python3.7/site-packages/matplotlib/colors.py\u001b[0m in \u001b[0;36mto_rgba\u001b[0;34m(c, alpha)\u001b[0m\n\u001b[1;32m    173\u001b[0m     \u001b[0;32mtry\u001b[0m\u001b[0;34m:\u001b[0m\u001b[0;34m\u001b[0m\u001b[0;34m\u001b[0m\u001b[0m\n\u001b[0;32m--> 174\u001b[0;31m         \u001b[0mrgba\u001b[0m \u001b[0;34m=\u001b[0m \u001b[0m_colors_full_map\u001b[0m\u001b[0;34m.\u001b[0m\u001b[0mcache\u001b[0m\u001b[0;34m[\u001b[0m\u001b[0mc\u001b[0m\u001b[0;34m,\u001b[0m \u001b[0malpha\u001b[0m\u001b[0;34m]\u001b[0m\u001b[0;34m\u001b[0m\u001b[0;34m\u001b[0m\u001b[0m\n\u001b[0m\u001b[1;32m    175\u001b[0m     \u001b[0;32mexcept\u001b[0m \u001b[0;34m(\u001b[0m\u001b[0mKeyError\u001b[0m\u001b[0;34m,\u001b[0m \u001b[0mTypeError\u001b[0m\u001b[0;34m)\u001b[0m\u001b[0;34m:\u001b[0m  \u001b[0;31m# Not in cache, or unhashable.\u001b[0m\u001b[0;34m\u001b[0m\u001b[0;34m\u001b[0m\u001b[0m\n",
      "\u001b[0;31mKeyError\u001b[0m: ('sky blue', None)",
      "\nDuring handling of the above exception, another exception occurred:\n",
      "\u001b[0;31mValueError\u001b[0m                                Traceback (most recent call last)",
      "\u001b[0;32m<ipython-input-290-19f92e6d4c11>\u001b[0m in \u001b[0;36m<module>\u001b[0;34m\u001b[0m\n\u001b[1;32m     10\u001b[0m \u001b[0;31m# ROI_names = ['BA (L)','WA (L)','MFG (L)','SMA','IOA (R)','MFG (R)','PREM (R)','WA (R)','BA (R)']\u001b[0m\u001b[0;34m\u001b[0m\u001b[0;34m\u001b[0m\u001b[0;34m\u001b[0m\u001b[0m\n\u001b[1;32m     11\u001b[0m \u001b[0;34m\u001b[0m\u001b[0m\n\u001b[0;32m---> 12\u001b[0;31m \u001b[0max\u001b[0m\u001b[0;34m.\u001b[0m\u001b[0mhist\u001b[0m\u001b[0;34m(\u001b[0m\u001b[0mROIs\u001b[0m\u001b[0;34m,\u001b[0m\u001b[0;36m35\u001b[0m\u001b[0;34m,\u001b[0m\u001b[0mstacked\u001b[0m\u001b[0;34m=\u001b[0m\u001b[0;32mTrue\u001b[0m\u001b[0;34m,\u001b[0m\u001b[0mdensity\u001b[0m\u001b[0;34m=\u001b[0m\u001b[0;32mTrue\u001b[0m\u001b[0;34m,\u001b[0m\u001b[0mlabel\u001b[0m\u001b[0;34m=\u001b[0m\u001b[0mROI_names\u001b[0m\u001b[0;34m,\u001b[0m\u001b[0mcolor\u001b[0m\u001b[0;34m=\u001b[0m\u001b[0mROI_colors\u001b[0m\u001b[0;34m)\u001b[0m\u001b[0;34m\u001b[0m\u001b[0;34m\u001b[0m\u001b[0m\n\u001b[0m\u001b[1;32m     13\u001b[0m \u001b[0;34m\u001b[0m\u001b[0m\n\u001b[1;32m     14\u001b[0m \u001b[0max\u001b[0m\u001b[0;34m.\u001b[0m\u001b[0mlegend\u001b[0m\u001b[0;34m(\u001b[0m\u001b[0;34m)\u001b[0m\u001b[0;34m\u001b[0m\u001b[0;34m\u001b[0m\u001b[0m\n",
      "\u001b[0;32m~/anaconda3/lib/python3.7/site-packages/matplotlib/__init__.py\u001b[0m in \u001b[0;36minner\u001b[0;34m(ax, data, *args, **kwargs)\u001b[0m\n\u001b[1;32m   1808\u001b[0m                         \u001b[0;34m\"the Matplotlib list!)\"\u001b[0m \u001b[0;34m%\u001b[0m \u001b[0;34m(\u001b[0m\u001b[0mlabel_namer\u001b[0m\u001b[0;34m,\u001b[0m \u001b[0mfunc\u001b[0m\u001b[0;34m.\u001b[0m\u001b[0m__name__\u001b[0m\u001b[0;34m)\u001b[0m\u001b[0;34m,\u001b[0m\u001b[0;34m\u001b[0m\u001b[0;34m\u001b[0m\u001b[0m\n\u001b[1;32m   1809\u001b[0m                         RuntimeWarning, stacklevel=2)\n\u001b[0;32m-> 1810\u001b[0;31m             \u001b[0;32mreturn\u001b[0m \u001b[0mfunc\u001b[0m\u001b[0;34m(\u001b[0m\u001b[0max\u001b[0m\u001b[0;34m,\u001b[0m \u001b[0;34m*\u001b[0m\u001b[0margs\u001b[0m\u001b[0;34m,\u001b[0m \u001b[0;34m**\u001b[0m\u001b[0mkwargs\u001b[0m\u001b[0;34m)\u001b[0m\u001b[0;34m\u001b[0m\u001b[0;34m\u001b[0m\u001b[0m\n\u001b[0m\u001b[1;32m   1811\u001b[0m \u001b[0;34m\u001b[0m\u001b[0m\n\u001b[1;32m   1812\u001b[0m         inner.__doc__ = _add_data_doc(inner.__doc__,\n",
      "\u001b[0;32m~/anaconda3/lib/python3.7/site-packages/matplotlib/axes/_axes.py\u001b[0m in \u001b[0;36mhist\u001b[0;34m(self, x, bins, range, density, weights, cumulative, bottom, histtype, align, orientation, rwidth, log, color, label, stacked, normed, **kwargs)\u001b[0m\n\u001b[1;32m   6558\u001b[0m             \u001b[0mcolor\u001b[0m \u001b[0;34m=\u001b[0m \u001b[0;34m[\u001b[0m\u001b[0mself\u001b[0m\u001b[0;34m.\u001b[0m\u001b[0m_get_lines\u001b[0m\u001b[0;34m.\u001b[0m\u001b[0mget_next_color\u001b[0m\u001b[0;34m(\u001b[0m\u001b[0;34m)\u001b[0m \u001b[0;32mfor\u001b[0m \u001b[0mi\u001b[0m \u001b[0;32min\u001b[0m \u001b[0mrange\u001b[0m\u001b[0;34m(\u001b[0m\u001b[0mnx\u001b[0m\u001b[0;34m)\u001b[0m\u001b[0;34m]\u001b[0m\u001b[0;34m\u001b[0m\u001b[0;34m\u001b[0m\u001b[0m\n\u001b[1;32m   6559\u001b[0m         \u001b[0;32melse\u001b[0m\u001b[0;34m:\u001b[0m\u001b[0;34m\u001b[0m\u001b[0;34m\u001b[0m\u001b[0m\n\u001b[0;32m-> 6560\u001b[0;31m             \u001b[0mcolor\u001b[0m \u001b[0;34m=\u001b[0m \u001b[0mmcolors\u001b[0m\u001b[0;34m.\u001b[0m\u001b[0mto_rgba_array\u001b[0m\u001b[0;34m(\u001b[0m\u001b[0mcolor\u001b[0m\u001b[0;34m)\u001b[0m\u001b[0;34m\u001b[0m\u001b[0;34m\u001b[0m\u001b[0m\n\u001b[0m\u001b[1;32m   6561\u001b[0m             \u001b[0;32mif\u001b[0m \u001b[0mlen\u001b[0m\u001b[0;34m(\u001b[0m\u001b[0mcolor\u001b[0m\u001b[0;34m)\u001b[0m \u001b[0;34m!=\u001b[0m \u001b[0mnx\u001b[0m\u001b[0;34m:\u001b[0m\u001b[0;34m\u001b[0m\u001b[0;34m\u001b[0m\u001b[0m\n\u001b[1;32m   6562\u001b[0m                 error_message = (\n",
      "\u001b[0;32m~/anaconda3/lib/python3.7/site-packages/matplotlib/colors.py\u001b[0m in \u001b[0;36mto_rgba_array\u001b[0;34m(c, alpha)\u001b[0m\n\u001b[1;32m    273\u001b[0m     \u001b[0mresult\u001b[0m \u001b[0;34m=\u001b[0m \u001b[0mnp\u001b[0m\u001b[0;34m.\u001b[0m\u001b[0mempty\u001b[0m\u001b[0;34m(\u001b[0m\u001b[0;34m(\u001b[0m\u001b[0mlen\u001b[0m\u001b[0;34m(\u001b[0m\u001b[0mc\u001b[0m\u001b[0;34m)\u001b[0m\u001b[0;34m,\u001b[0m \u001b[0;36m4\u001b[0m\u001b[0;34m)\u001b[0m\u001b[0;34m,\u001b[0m \u001b[0mfloat\u001b[0m\u001b[0;34m)\u001b[0m\u001b[0;34m\u001b[0m\u001b[0;34m\u001b[0m\u001b[0m\n\u001b[1;32m    274\u001b[0m     \u001b[0;32mfor\u001b[0m \u001b[0mi\u001b[0m\u001b[0;34m,\u001b[0m \u001b[0mcc\u001b[0m \u001b[0;32min\u001b[0m \u001b[0menumerate\u001b[0m\u001b[0;34m(\u001b[0m\u001b[0mc\u001b[0m\u001b[0;34m)\u001b[0m\u001b[0;34m:\u001b[0m\u001b[0;34m\u001b[0m\u001b[0;34m\u001b[0m\u001b[0m\n\u001b[0;32m--> 275\u001b[0;31m         \u001b[0mresult\u001b[0m\u001b[0;34m[\u001b[0m\u001b[0mi\u001b[0m\u001b[0;34m]\u001b[0m \u001b[0;34m=\u001b[0m \u001b[0mto_rgba\u001b[0m\u001b[0;34m(\u001b[0m\u001b[0mcc\u001b[0m\u001b[0;34m,\u001b[0m \u001b[0malpha\u001b[0m\u001b[0;34m)\u001b[0m\u001b[0;34m\u001b[0m\u001b[0;34m\u001b[0m\u001b[0m\n\u001b[0m\u001b[1;32m    276\u001b[0m     \u001b[0;32mreturn\u001b[0m \u001b[0mresult\u001b[0m\u001b[0;34m\u001b[0m\u001b[0;34m\u001b[0m\u001b[0m\n\u001b[1;32m    277\u001b[0m \u001b[0;34m\u001b[0m\u001b[0m\n",
      "\u001b[0;32m~/anaconda3/lib/python3.7/site-packages/matplotlib/colors.py\u001b[0m in \u001b[0;36mto_rgba\u001b[0;34m(c, alpha)\u001b[0m\n\u001b[1;32m    174\u001b[0m         \u001b[0mrgba\u001b[0m \u001b[0;34m=\u001b[0m \u001b[0m_colors_full_map\u001b[0m\u001b[0;34m.\u001b[0m\u001b[0mcache\u001b[0m\u001b[0;34m[\u001b[0m\u001b[0mc\u001b[0m\u001b[0;34m,\u001b[0m \u001b[0malpha\u001b[0m\u001b[0;34m]\u001b[0m\u001b[0;34m\u001b[0m\u001b[0;34m\u001b[0m\u001b[0m\n\u001b[1;32m    175\u001b[0m     \u001b[0;32mexcept\u001b[0m \u001b[0;34m(\u001b[0m\u001b[0mKeyError\u001b[0m\u001b[0;34m,\u001b[0m \u001b[0mTypeError\u001b[0m\u001b[0;34m)\u001b[0m\u001b[0;34m:\u001b[0m  \u001b[0;31m# Not in cache, or unhashable.\u001b[0m\u001b[0;34m\u001b[0m\u001b[0;34m\u001b[0m\u001b[0m\n\u001b[0;32m--> 176\u001b[0;31m         \u001b[0mrgba\u001b[0m \u001b[0;34m=\u001b[0m \u001b[0m_to_rgba_no_colorcycle\u001b[0m\u001b[0;34m(\u001b[0m\u001b[0mc\u001b[0m\u001b[0;34m,\u001b[0m \u001b[0malpha\u001b[0m\u001b[0;34m)\u001b[0m\u001b[0;34m\u001b[0m\u001b[0;34m\u001b[0m\u001b[0m\n\u001b[0m\u001b[1;32m    177\u001b[0m         \u001b[0;32mtry\u001b[0m\u001b[0;34m:\u001b[0m\u001b[0;34m\u001b[0m\u001b[0;34m\u001b[0m\u001b[0m\n\u001b[1;32m    178\u001b[0m             \u001b[0m_colors_full_map\u001b[0m\u001b[0;34m.\u001b[0m\u001b[0mcache\u001b[0m\u001b[0;34m[\u001b[0m\u001b[0mc\u001b[0m\u001b[0;34m,\u001b[0m \u001b[0malpha\u001b[0m\u001b[0;34m]\u001b[0m \u001b[0;34m=\u001b[0m \u001b[0mrgba\u001b[0m\u001b[0;34m\u001b[0m\u001b[0;34m\u001b[0m\u001b[0m\n",
      "\u001b[0;32m~/anaconda3/lib/python3.7/site-packages/matplotlib/colors.py\u001b[0m in \u001b[0;36m_to_rgba_no_colorcycle\u001b[0;34m(c, alpha)\u001b[0m\n\u001b[1;32m    218\u001b[0m         \u001b[0;32mexcept\u001b[0m \u001b[0mValueError\u001b[0m\u001b[0;34m:\u001b[0m\u001b[0;34m\u001b[0m\u001b[0;34m\u001b[0m\u001b[0m\n\u001b[1;32m    219\u001b[0m             \u001b[0;32mpass\u001b[0m\u001b[0;34m\u001b[0m\u001b[0;34m\u001b[0m\u001b[0m\n\u001b[0;32m--> 220\u001b[0;31m         \u001b[0;32mraise\u001b[0m \u001b[0mValueError\u001b[0m\u001b[0;34m(\u001b[0m\u001b[0;34m\"Invalid RGBA argument: {!r}\"\u001b[0m\u001b[0;34m.\u001b[0m\u001b[0mformat\u001b[0m\u001b[0;34m(\u001b[0m\u001b[0morig_c\u001b[0m\u001b[0;34m)\u001b[0m\u001b[0;34m)\u001b[0m\u001b[0;34m\u001b[0m\u001b[0;34m\u001b[0m\u001b[0m\n\u001b[0m\u001b[1;32m    221\u001b[0m     \u001b[0;31m# tuple color.\u001b[0m\u001b[0;34m\u001b[0m\u001b[0;34m\u001b[0m\u001b[0;34m\u001b[0m\u001b[0m\n\u001b[1;32m    222\u001b[0m     \u001b[0mc\u001b[0m \u001b[0;34m=\u001b[0m \u001b[0mnp\u001b[0m\u001b[0;34m.\u001b[0m\u001b[0marray\u001b[0m\u001b[0;34m(\u001b[0m\u001b[0mc\u001b[0m\u001b[0;34m)\u001b[0m\u001b[0;34m\u001b[0m\u001b[0;34m\u001b[0m\u001b[0m\n",
      "\u001b[0;31mValueError\u001b[0m: Invalid RGBA argument: 'sky blue'"
     ]
    },
    {
     "data": {
      "image/png": "[encoded data removed]",
      "text/plain": [
       "<Figure size 432x288 with 1 Axes>"
      ]
     },
     "metadata": {
      "needs_background": "light"
     },
     "output_type": "display_data"
    }
   ],
   "source": [
    "fig = plt.figure()\n",
    "ax = plt.axes()\n",
    "# my_title = fig.title('kcore histogram')\n",
    "ax.set_xlabel('Kcore',fontsize=13)\n",
    "ax.set_ylabel('Count',fontsize=12)\n",
    "ax.set_title('Arrest - patient #{}'.format(patient),fontsize=15)\n",
    "\n",
    "# current_palette = sns.color_palette(\"hls\", 9)\n",
    "\n",
    "# ROI_names = ['BA (L)','WA (L)','MFG (L)','SMA','IOA (R)','MFG (R)','PREM (R)','WA (R)','BA (R)']\n",
    "\n",
    "ax.hist(ROIs,35,stacked=True,density=True,label=ROI_names,color=ROI_colors)\n",
    "\n",
    "ax.legend()\n",
    "ax.legend(bbox_to_anchor=(1., 1.03))\n",
    "\n",
    "plt.grid(True)\n",
    "plt.show()\n",
    "\n",
    "fig = plt.figure()\n",
    "ax = plt.axes()\n",
    "# my_title = fig.title('kcore histogram')\n",
    "ax.set_xlabel('Kcore',fontsize=13)\n",
    "ax.set_ylabel('Count',fontsize=12)\n",
    "ax.set_title('Arrest - patient #{}'.format(patient),fontsize=15)\n",
    "\n",
    "# colors \n",
    "ROI_names = ['BA (L)','WA (L)','SMA',]\n",
    "ROI_colors = [*itemgetter(0, 1, 3)(current_palette)]\n",
    "\n",
    "weights_ROI = []\n",
    "weights_ROI.append(np.ones_like(ROI[0])/len(labels))\n",
    "weights_ROI.append(np.ones_like(ROI[1])/len(labels))\n",
    "weights_ROI.append(np.ones_like(ROI[3])/len(labels))\n",
    "\n",
    "ax.hist([ROI[0],ROI[1],ROI[3]],34,weights=weights_ROI,stacked=True,label=ROI_names,color=ROI_colors)\n",
    "\n",
    "ax.legend()\n",
    "ax.legend(bbox_to_anchor=(1., 1.03))\n",
    "\n",
    "plt.grid(True)\n",
    "plt.show()\n"
   ]
  },
  {
   "cell_type": "code",
   "execution_count": 312,
   "metadata": {},
   "outputs": [
    {
     "name": "stdout",
     "output_type": "stream",
     "text": [
      "['BA (L)' 'WA (L)' 'MFG (L)' 'SMA' 'IOA (R)' 'MFG (R)' 'PREM (R)' 'WA (R)'\n",
      " 'BA (R)']\n",
      "['BA (L)' 'WA (L)' 'SMA']\n",
      "['crimson' 'orangered' 'wheat' 'aquamarine' 'sky blue' 'windows blue'\n",
      " 'lilac' 'periwinkle' 'violet']\n"
     ]
    },
    {
     "data": {
      "image/png": "[encoded data removed]",
      "text/plain": [
       "<Figure size 648x72 with 1 Axes>"
      ]
     },
     "metadata": {
      "needs_background": "light"
     },
     "output_type": "display_data"
    },
    {
     "data": {
      "image/png": "[encoded data removed]",
      "text/plain": [
       "<Figure size 216x72 with 1 Axes>"
      ]
     },
     "metadata": {
      "needs_background": "light"
     },
     "output_type": "display_data"
    }
   ],
   "source": [
    "ROI_names_all = np.array(['BA (L)','WA (L)','PreM (L)','Motor (L)','MFG (L)','SupM (L)','IOA (L)','AngG (L)','SMA','AngG (R)','IOA (R)','SupM (R)','MFG (R)','Motor (R)','PREM (R)','WA (R)','BA (R)'])\n",
    "colors = np.array([\"crimson\",\"orangered\",\"salmon\",\"amber\",\"wheat\",\"beige\",\"lime\",\"lightgreen\",\"aquamarine\",\"turquoise\",\"sky blue\",\"azure\",\"windows blue\",\"cobalt\",\"lilac\",\"periwinkle\",\"violet\"])\n",
    "\n",
    "\n",
    "\n",
    "\n",
    "\n",
    "list_ROI = [0,1,4,8,10,12,14,15,16]\n",
    "list_ROI_common = [0,1,8]\n",
    "ROI_names = ROI_names_all[list_ROI]\n",
    "ROI_names_common = ROI_names_all[list_ROI_common]\n",
    "print(ROI_names)\n",
    "print(ROI_names_common)\n",
    "ROI_colors = colors[list_ROI]\n",
    "print(ROI_colors)\n",
    "\n",
    "sns.palplot(sns.xkcd_palette(colors[list_ROI]))\n",
    "sns.palplot(sns.xkcd_palette(colors[list_ROI_common]))\n"
   ]
  },
  {
   "cell_type": "code",
   "execution_count": 315,
   "metadata": {},
   "outputs": [
    {
     "name": "stdout",
     "output_type": "stream",
     "text": [
      "['crimson', 'orangered', 'wheat', 'aquamarine', 'sky blue', 'windows blue', 'lilac', 'periwinkle', 'violet']\n",
      "[(0.86, 0.3712, 0.33999999999999997), (0.86, 0.7178666666666667, 0.33999999999999997), (0.6554666666666664, 0.86, 0.33999999999999997), (0.33999999999999997, 0.86, 0.3712), (0.33999999999999997, 0.86, 0.7178666666666667), (0.33999999999999997, 0.6554666666666664, 0.86), (0.3712, 0.33999999999999997, 0.86), (0.7178666666666661, 0.33999999999999997, 0.86), (0.86, 0.33999999999999997, 0.6554666666666664)]\n"
     ]
    },
    {
     "data": {
      "image/png": "[encoded data removed]",
      "text/plain": [
       "<Figure size 864x252 with 2 Axes>"
      ]
     },
     "metadata": {
      "needs_background": "light"
     },
     "output_type": "display_data"
    }
   ],
   "source": [
    "fig, (ax1,ax2) = plt.subplots(1,2,figsize=(12,3.5))\n",
    "\n",
    "# 1st histogram\n",
    "ax1.set_xlabel('Kcore',fontsize=13)\n",
    "ax1.set_ylabel('Count',fontsize=12)\n",
    "ax1.set_title('Arrest - patient #{}'.format(patient),fontsize=15)\n",
    "# ax1.set_ylim([0, 0.22])\n",
    "\n",
    "# color palette\n",
    "current_palette = sns.color_palette(\"hls\", 9)\n",
    "\n",
    "# ROI names\n",
    "# ROI_names = ['BA (L)','WA (L)','MFG (L)','SMA','IOA (R)','MFG (R)','PREM (R)','WA (R)','BA (R)']\n",
    "# ROI_colors = colors[list_ROI]\n",
    "ROI_colors = ['crimson', 'orangered', 'wheat', 'aquamarine','sky blue' ,'windows blue','lilac', 'periwinkle', 'violet']\n",
    "print(ROI_colors)\n",
    "ax1.hist(ROIs,35,stacked=True,density=True,label=ROI_names,color=current_palette)\n",
    "\n",
    "ax1.legend()\n",
    "ax1.legend(bbox_to_anchor=(1., 1.03))\n",
    "\n",
    "ax1.grid(True)\n",
    "\n",
    "# # 2nd histogram\n",
    "# ax2.set_xlabel('Kcore',fontsize=13)\n",
    "# ax2.set_ylabel('Count',fontsize=12)\n",
    "# ax2.set_title('Arrest - patient #{}'.format(patient),fontsize=15)\n",
    "# # ax2.set_ylim([0, 0.15]) \n",
    "\n",
    "# # ROI names\n",
    "# # ROI_names = ['BA (L)','WA (L)','SMA',]\n",
    "# # colors \n",
    "# ROI_colors_common = [itemgetter(*list_ROI_common)(colors)]\n",
    "\n",
    "# # weights\n",
    "# weights_ROI = []\n",
    "# ROIs_common = []\n",
    "# common = [0,1,3]\n",
    "# for roi_indx in common:\n",
    "#     weights_ROI.append(np.ones_like(ROI[roi_indx])/len(labels))\n",
    "#     ROIs_common.append(ROIs[roi_indx])\n",
    "\n",
    "\n",
    "# ax2.hist(ROIs_common,34,weights=weights_ROI,stacked=True,label=ROI_names,color=ROI_colors_common)\n",
    "\n",
    "# ax2.legend()\n",
    "# ax2.legend(bbox_to_anchor=(1., 1.03))\n",
    "\n",
    "# ax2.grid(True)\n",
    "\n",
    "\n",
    "# plt.subplots_adjust(wspace=0.6)\n",
    "# plt.show()\n",
    "\n",
    "# fig.savefig(fn_figure,bbox_inches='tight')\n",
    "# plt.close(fig)\n",
    "print(current_palette)"
   ]
  },
  {
   "cell_type": "code",
   "execution_count": 308,
   "metadata": {},
   "outputs": [
    {
     "data": {
      "text/plain": [
       "'1ag'"
      ]
     },
     "execution_count": 308,
     "metadata": {},
     "output_type": "execute_result"
    }
   ],
   "source": [
    "a = ['1' 'a' 'g']\n",
    "a[0]"
   ]
  },
  {
   "cell_type": "code",
   "execution_count": 309,
   "metadata": {},
   "outputs": [
    {
     "data": {
      "image/png": "[encoded data removed]",
      "text/plain": [
       "<Figure size 1224x72 with 1 Axes>"
      ]
     },
     "metadata": {
      "needs_background": "light"
     },
     "output_type": "display_data"
    },
    {
     "data": {
      "image/png": "[encoded data removed]",
      "text/plain": [
       "<Figure size 288x72 with 1 Axes>"
      ]
     },
     "metadata": {
      "needs_background": "light"
     },
     "output_type": "display_data"
    }
   ],
   "source": [
    "# sns.palplot(sns.color_palette(\"Set2\", 17))\n",
    "# # sns.palplot(sns.color_palette(\"deep\", 9))\n",
    "# sns.palplot(sns.color_palette(\"pastel\", 9))\n",
    "import matplotlib\n",
    "import matplotlib.colors as mcolors\n",
    "# sns.palplot(sns.color_palette(\"cubehelix\", 8))\n",
    "sns.palplot(sns.color_palette(\"RdBu\", n_colors=17))\n",
    "colors = [\"crimson\",\"orangered\",\"salmon\",\"amber\",\"wheat\",\"beige\",\"lime\",\"lightgreen\",\"aquamarine\",\"turquoise\",\"sky blue\",\"azure\",\"windows blue\",\"cobalt\",\"lilac\",\"periwinkle\",\"violet\"]\n",
    "selection = [1,2,4,5]\n",
    "itemgetter(*selection)(colors)\n",
    "sns.palplot(sns.xkcd_palette(itemgetter(*selection)(colors)))\n",
    "# ROI_colors = [*itemgetter(selection)(colors)]\n"
   ]
  },
  {
   "cell_type": "code",
   "execution_count": 267,
   "metadata": {},
   "outputs": [
    {
     "data": {
      "image/png": "[encoded data removed]",
      "text/plain": [
       "<Figure size 864x252 with 2 Axes>"
      ]
     },
     "metadata": {
      "needs_background": "light"
     },
     "output_type": "display_data"
    }
   ],
   "source": [
    " \n",
    "\n",
    "fig, (ax1,ax2) = plt.subplots(1,2,figsize=(12,3.5))\n",
    "\n",
    "# 1st histogram\n",
    "ax1.set_xlabel('Kcore',fontsize=13)\n",
    "ax1.set_ylabel('Count',fontsize=12)\n",
    "ax1.set_title('Arrest - patient #{}'.format(patient),fontsize=15)\n",
    "ax1.set_ylim([0, 0.22])\n",
    "\n",
    "# color palette\n",
    "current_palette = sns.color_palette(\"hls\", 9)\n",
    "\n",
    "# ROI names\n",
    "# ROI_names = ['BA (L)','WA (L)','MFG (L)','SMA','IOA (R)','MFG (R)','PREM (R)','WA (R)','BA (R)']\n",
    "\n",
    "ax1.hist(ROIs,35,stacked=True,density=True,label=ROI_names,color=current_palette)\n",
    "\n",
    "ax1.legend()\n",
    "ax1.legend(bbox_to_anchor=(1., 1.03))\n",
    "\n",
    "ax1.grid(True)\n",
    "\n",
    "# 2nd histogram\n",
    "ax2.set_xlabel('Kcore',fontsize=13)\n",
    "ax2.set_ylabel('Count',fontsize=12)\n",
    "ax2.set_title('Arrest - patient #{}'.format(patient),fontsize=15)\n",
    "ax2.set_ylim([0, 0.15]) \n",
    "\n",
    "# ROI names\n",
    "ROI_names = ['BA (L)','WA (L)','SMA',]\n",
    "# colors \n",
    "ROI_colors = [*itemgetter(0, 1, 3)(current_palette)]\n",
    "\n",
    "# weights\n",
    "weights_ROI = []\n",
    "ROIs_common = []\n",
    "common = [0,1,3]\n",
    "for roi_indx in common:\n",
    "    weights_ROI.append(np.ones_like(ROI[roi_indx])/len(labels))\n",
    "    ROIs_common.append(ROIs[roi_indx])\n",
    "\n",
    "\n",
    "ax2.hist(ROIs_common,34,weights=weights_ROI,stacked=True,label=ROI_names,color=ROI_colors)\n",
    "\n",
    "ax2.legend()\n",
    "ax2.legend(bbox_to_anchor=(1., 1.03))\n",
    "\n",
    "ax2.grid(True)\n",
    "\n",
    "\n",
    "plt.subplots_adjust(wspace=0.6)\n",
    "plt.show()\n",
    "\n",
    "fig.savefig(fn_figure,bbox_inches='tight')\n",
    "plt.close(fig)"
   ]
  },
  {
   "cell_type": "code",
   "execution_count": null,
   "metadata": {},
   "outputs": [],
   "source": []
  }
 ],
 "metadata": {
  "kernelspec": {
   "display_name": "Python 3",
   "language": "python",
   "name": "python3"
  },
  "language_info": {
   "codemirror_mode": {
    "name": "ipython",
    "version": 3
   },
   "file_extension": ".py",
   "mimetype": "text/x-python",
   "name": "python",
   "nbconvert_exporter": "python",
   "pygments_lexer": "ipython3",
   "version": "3.7.3"
  }
 },
 "nbformat": 4,
 "nbformat_minor": 4
}
